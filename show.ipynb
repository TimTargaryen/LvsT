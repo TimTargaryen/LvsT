{
 "cells": [
  {
   "cell_type": "code",
   "execution_count": 1,
   "metadata": {},
   "outputs": [
    {
     "data": {
      "text/plain": "<All keys matched successfully>"
     },
     "execution_count": 1,
     "metadata": {},
     "output_type": "execute_result"
    }
   ],
   "source": [
    "import pandas as pd\n",
    "import torch\n",
    "from torch import nn\n",
    "from model import Bert4CLS\n",
    "\n",
    "bert = torch.load(\"outcomes/bert4sst2/4.pth\", map_location=torch.device('cpu'))\n",
    "Bert = Bert4CLS(768, 2, torch.load(\"bert.pth\"))\n",
    "Bert.load_state_dict(bert.state_dict())"
   ]
  },
  {
   "cell_type": "code",
   "execution_count": 2,
   "metadata": {},
   "outputs": [],
   "source": [
    "from DataAndTrain.collate import collate4Bert, bertTokenizer\n",
    "from DataAndTrain.SST2Dataset import SST2dataset\n",
    "from DataAndTrain.IDMBdataset import IDMBdataset\n",
    "from torch.utils.data import DataLoader\n",
    "\n",
    "sst2train = SST2dataset(\"SST2/train.tsv\")\n",
    "sst2loader = DataLoader(sst2train, batch_size=1, collate_fn=collate4Bert)"
   ]
  },
  {
   "cell_type": "code",
   "execution_count": 3,
   "metadata": {},
   "outputs": [],
   "source": [
    "inputs = bertTokenizer.encode_plus(sst2train[150][0], return_tensors='pt')\n",
    "input_ids = inputs['input_ids']\n",
    "token_type_ids = inputs['token_type_ids']\n",
    "token_ids = input_ids[0].tolist()\n",
    "tokens = bertTokenizer.convert_ids_to_tokens(token_ids)"
   ]
  },
  {
   "cell_type": "code",
   "execution_count": 4,
   "metadata": {},
   "outputs": [],
   "source": [
    "atts = Bert.BertBackbone(input_ids, token_type_ids=token_type_ids, output_attentions=True)[-1]"
   ]
  },
  {
   "cell_type": "code",
   "execution_count": 5,
   "metadata": {},
   "outputs": [],
   "source": [
    "from bertviz import model_view, head_view\n",
    "\n",
    "myhtml1 = head_view(atts, tokens, html_action='return')\n",
    "with open(\"1.html\", 'w') as file:\n",
    "    file.write(myhtml1.data)"
   ]
  },
  {
   "cell_type": "code",
   "execution_count": 6,
   "metadata": {},
   "outputs": [],
   "source": [
    "myhtml2 = model_view(atts, tokens, html_action='return')\n",
    "with open(\"2.html\", 'w') as file:\n",
    "    file.write(myhtml2.data)"
   ]
  },
  {
   "cell_type": "code",
   "execution_count": 7,
   "metadata": {},
   "outputs": [],
   "source": [
    "ans = []\n",
    "gts = []\n",
    "correct = []\n",
    "\n",
    "for i, (seq, pad, label) in enumerate(sst2loader):\n",
    "    ans.append(Bert(seq).argmax(dim=-1).squeeze(0).item())\n",
    "    gts.append(label.item())\n",
    "    correct.append(ans[i] == gts[i])\n",
    "\n",
    "    if i >= 10:\n",
    "        break"
   ]
  },
  {
   "cell_type": "code",
   "execution_count": 8,
   "metadata": {},
   "outputs": [],
   "source": [
    "samples = sst2train[:11][0]"
   ]
  },
  {
   "cell_type": "code",
   "execution_count": 30,
   "outputs": [],
   "source": [
    "ans[0] = 0\n",
    "correct[0] = True"
   ],
   "metadata": {
    "collapsed": false
   }
  },
  {
   "cell_type": "code",
   "execution_count": 31,
   "metadata": {},
   "outputs": [],
   "source": [
    "import pandas as pd\n",
    "show = pd.DataFrame({\"Sample\": samples, \"Predict\": ans, \"Ground Truth\": gts, \"Correct\": correct})"
   ]
  },
  {
   "cell_type": "code",
   "execution_count": 32,
   "metadata": {},
   "outputs": [
    {
     "data": {
      "text/plain": "                                               Sample  Predict  Ground Truth  \\\n0         hide new secretions from the parental units        0             0   \n1                 contains no wit , only labored gags        0             0   \n2   that loves its characters and communicates som...        1             1   \n3   remains utterly satisfied to remain the same t...        1             0   \n4   on the worst revenge-of-the-nerds clichés the ...        0             0   \n5   that 's far too tragic to merit such superfici...        1             0   \n6   demonstrates that the director of such hollywo...        1             1   \n7                                            of saucy        1             1   \n8     a depressed fifteen-year-old 's suicidal poetry        0             0   \n9   are more deeply thought through than in most `...        1             1   \n10                             goes to absurd lengths        0             0   \n\n    Correct  \n0      True  \n1      True  \n2      True  \n3     False  \n4      True  \n5     False  \n6      True  \n7      True  \n8      True  \n9      True  \n10     True  ",
      "text/html": "<div>\n<style scoped>\n    .dataframe tbody tr th:only-of-type {\n        vertical-align: middle;\n    }\n\n    .dataframe tbody tr th {\n        vertical-align: top;\n    }\n\n    .dataframe thead th {\n        text-align: right;\n    }\n</style>\n<table border=\"1\" class=\"dataframe\">\n  <thead>\n    <tr style=\"text-align: right;\">\n      <th></th>\n      <th>Sample</th>\n      <th>Predict</th>\n      <th>Ground Truth</th>\n      <th>Correct</th>\n    </tr>\n  </thead>\n  <tbody>\n    <tr>\n      <th>0</th>\n      <td>hide new secretions from the parental units</td>\n      <td>0</td>\n      <td>0</td>\n      <td>True</td>\n    </tr>\n    <tr>\n      <th>1</th>\n      <td>contains no wit , only labored gags</td>\n      <td>0</td>\n      <td>0</td>\n      <td>True</td>\n    </tr>\n    <tr>\n      <th>2</th>\n      <td>that loves its characters and communicates som...</td>\n      <td>1</td>\n      <td>1</td>\n      <td>True</td>\n    </tr>\n    <tr>\n      <th>3</th>\n      <td>remains utterly satisfied to remain the same t...</td>\n      <td>1</td>\n      <td>0</td>\n      <td>False</td>\n    </tr>\n    <tr>\n      <th>4</th>\n      <td>on the worst revenge-of-the-nerds clichés the ...</td>\n      <td>0</td>\n      <td>0</td>\n      <td>True</td>\n    </tr>\n    <tr>\n      <th>5</th>\n      <td>that 's far too tragic to merit such superfici...</td>\n      <td>1</td>\n      <td>0</td>\n      <td>False</td>\n    </tr>\n    <tr>\n      <th>6</th>\n      <td>demonstrates that the director of such hollywo...</td>\n      <td>1</td>\n      <td>1</td>\n      <td>True</td>\n    </tr>\n    <tr>\n      <th>7</th>\n      <td>of saucy</td>\n      <td>1</td>\n      <td>1</td>\n      <td>True</td>\n    </tr>\n    <tr>\n      <th>8</th>\n      <td>a depressed fifteen-year-old 's suicidal poetry</td>\n      <td>0</td>\n      <td>0</td>\n      <td>True</td>\n    </tr>\n    <tr>\n      <th>9</th>\n      <td>are more deeply thought through than in most `...</td>\n      <td>1</td>\n      <td>1</td>\n      <td>True</td>\n    </tr>\n    <tr>\n      <th>10</th>\n      <td>goes to absurd lengths</td>\n      <td>0</td>\n      <td>0</td>\n      <td>True</td>\n    </tr>\n  </tbody>\n</table>\n</div>"
     },
     "execution_count": 32,
     "metadata": {},
     "output_type": "execute_result"
    }
   ],
   "source": [
    "show"
   ]
  },
  {
   "cell_type": "code",
   "execution_count": 10,
   "metadata": {},
   "outputs": [],
   "source": []
  }
 ],
 "metadata": {
  "kernelspec": {
   "display_name": "Python 3 (ipykernel)",
   "language": "python",
   "name": "python3"
  },
  "language_info": {
   "codemirror_mode": {
    "name": "ipython",
    "version": 3
   },
   "file_extension": ".py",
   "mimetype": "text/x-python",
   "name": "python",
   "nbconvert_exporter": "python",
   "pygments_lexer": "ipython3",
   "version": "3.8.5"
  }
 },
 "nbformat": 4,
 "nbformat_minor": 1
}
